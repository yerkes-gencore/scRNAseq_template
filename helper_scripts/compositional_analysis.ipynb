{
 "cells": [
  {
   "cell_type": "code",
   "execution_count": null,
   "id": "e148b7ce-84d6-4beb-b92d-7914017c5dfc",
   "metadata": {},
   "outputs": [],
   "source": [
    "import importlib\n",
    "import warnings\n",
    "warnings.filterwarnings(\"ignore\")\n",
    "\n",
    "import pandas as pd\n",
    "import pickle as pkl\n",
    "import matplotlib.pyplot as plt\n",
    "\n",
    "import os\n",
    "os.environ[\"CUDA_VISIBLE_DEVICES\"] = \"-1\"\n",
    "import tensorflow as tf\n",
    "\n",
    "from sccoda.util import comp_ana as mod\n",
    "from sccoda.util import cell_composition_data as dat\n",
    "from sccoda.util import data_visualization as viz\n",
    "\n"
   ]
  },
  {
   "cell_type": "code",
   "execution_count": null,
   "id": "64985e2c-5c0f-457d-81f5-a338e180fc17",
   "metadata": {},
   "outputs": [],
   "source": [
    "## https://stackoverflow.com/a/70106921\n"
   ]
  },
  {
   "cell_type": "code",
   "execution_count": null,
   "id": "46ab155f-ef66-4a10-8269-f5f4910ef622",
   "metadata": {},
   "outputs": [],
   "source": [
    "data = pd.read_table('../outputs/composition_table.txt', sep = '\\t')"
   ]
  },
  {
   "cell_type": "code",
   "execution_count": null,
   "id": "205c90a1-5362-4d92-ab26-b67680ed9d3e",
   "metadata": {},
   "outputs": [],
   "source": [
    "data.head()"
   ]
  },
  {
   "cell_type": "code",
   "execution_count": null,
   "id": "e6ef4f6b-d1e6-4a59-886d-f3412da326a1",
   "metadata": {},
   "outputs": [],
   "source": [
    "data = dat.from_pandas(data, covariate_columns=['individual', 'stage', 'Iga'])"
   ]
  },
  {
   "cell_type": "code",
   "execution_count": null,
   "id": "d71d75e7-2fc8-41a7-9aee-1a262d25340d",
   "metadata": {},
   "outputs": [],
   "source": [
    "viz.boxplots(data, feature_name='Iga')"
   ]
  },
  {
   "cell_type": "code",
   "execution_count": null,
   "id": "c866362e-2b4d-48f5-bc59-8982e5a94113",
   "metadata": {},
   "outputs": [],
   "source": [
    "model = mod.CompositionalAnalysis(data, formula='stage + Iga')"
   ]
  },
  {
   "cell_type": "code",
   "execution_count": null,
   "id": "051468b9-ea7c-413f-9c17-761165aa617f",
   "metadata": {},
   "outputs": [],
   "source": [
    "## https://github.com/theislab/scCODA/issues/33#issuecomment-855614614\n",
    "## acceptance rate ideally >35%"
   ]
  },
  {
   "cell_type": "code",
   "execution_count": null,
   "id": "5f1cac90-561d-4a06-899b-cff40dcc7dbb",
   "metadata": {},
   "outputs": [],
   "source": [
    "sim_results = model.sample_hmc()"
   ]
  },
  {
   "cell_type": "code",
   "execution_count": null,
   "id": "443b9985-2dcd-466a-bbd6-72aadf1669bf",
   "metadata": {},
   "outputs": [],
   "source": [
    "sim_results.summary()\n",
    "print(sim_results.credible_effects())\n"
   ]
  },
  {
   "cell_type": "code",
   "execution_count": null,
   "id": "b1ecba7d-90b8-4aa5-9a62-59d797a363e6",
   "metadata": {},
   "outputs": [],
   "source": [
    "sim_results.set_fdr(est_fdr=0.2)\n",
    "print(sim_results.credible_effects())"
   ]
  },
  {
   "cell_type": "code",
   "execution_count": null,
   "id": "4d5844d4-07e3-489b-9a43-d45454c9a196",
   "metadata": {},
   "outputs": [],
   "source": [
    "sim_results.effect_df.to_csv('../outputs/scCODA_output.csv')"
   ]
  },
  {
   "cell_type": "code",
   "execution_count": null,
   "id": "c1fe8d10-8317-49ff-b054-4f2d92bc8d79",
   "metadata": {},
   "outputs": [],
   "source": [
    "# data = pd.read_table('../outputs/myeloids/myeloids_composition_table.txt', sep = '\\t')\n",
    "# data_coarse = data.copy()\n",
    "# data_coarse['classical'] = data_coarse[[col for col in data_coarse.columns if col.startswith('Classical')]].sum(axis=1)\n",
    "# data_coarse['intermediate'] = data_coarse[[col for col in data_coarse.columns if col.startswith('Intermediate')]].sum(axis=1)\n",
    "# data_coarse = data_coarse[data_coarse.columns.drop(list(data_coarse.filter(regex='Classical-')))]\n",
    "# data_coarse = data_coarse[data_coarse.columns.drop(list(data_coarse.filter(regex='Intermediate-')))]"
   ]
  },
  {
   "cell_type": "code",
   "execution_count": null,
   "id": "d2513382-f174-4633-a933-1fbe1007946b",
   "metadata": {},
   "outputs": [],
   "source": [
    "## sim_results_coarse = model_coarse.sample_hmc(num_results =50000, num_burnin = 10000, step_size = 0.02)"
   ]
  }
 ],
 "metadata": {
  "kernelspec": {
   "display_name": "Python 3 (ipykernel)",
   "language": "python",
   "name": "python3"
  },
  "language_info": {
   "codemirror_mode": {
    "name": "ipython",
    "version": 3
   },
   "file_extension": ".py",
   "mimetype": "text/x-python",
   "name": "python",
   "nbconvert_exporter": "python",
   "pygments_lexer": "ipython3",
   "version": "3.8.6"
  }
 },
 "nbformat": 4,
 "nbformat_minor": 5
}
